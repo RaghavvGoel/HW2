{
 "cells": [
  {
   "cell_type": "code",
   "execution_count": 3,
   "metadata": {},
   "outputs": [],
   "source": [
    "import numpy as np\n",
    "import copy\n",
    "import math"
   ]
  },
  {
   "cell_type": "code",
   "execution_count": 12,
   "metadata": {},
   "outputs": [
    {
     "name": "stdout",
     "output_type": "stream",
     "text": [
      "0.0\n"
     ]
    }
   ],
   "source": [
    "v = np.zeros([5,5])\n",
    "gamma = 0.9\n",
    "print(v[0][0])"
   ]
  },
  {
   "cell_type": "code",
   "execution_count": 4,
   "metadata": {},
   "outputs": [],
   "source": [
    "rA = 0; cA = 0;\n",
    "rB = 3; cB = 3;"
   ]
  },
  {
   "cell_type": "code",
   "execution_count": 76,
   "metadata": {},
   "outputs": [],
   "source": [
    "T = 1000 #stop after these many steps\n",
    "noa = 4;"
   ]
  },
  {
   "cell_type": "code",
   "execution_count": 44,
   "metadata": {},
   "outputs": [],
   "source": [
    "def getNewState(a):\n",
    "    if a == 0:                      #UP\n",
    "        s_next = [s[0]-1, s[1]]\n",
    "    elif a == 1:                    #LEFT\n",
    "        s_next = [s[0], s[1]-1]\n",
    "    elif a == 2:                    #DOWN\n",
    "        s_next = [s[0]+1, s[1]]\n",
    "    else:                           #RIGHT\n",
    "        s_next = [s[0], s[1] + 1]\n",
    "        \n",
    "    return s_next    "
   ]
  },
  {
   "cell_type": "code",
   "execution_count": 38,
   "metadata": {},
   "outputs": [],
   "source": [
    "def getNewState_A(a,s):\n",
    "    if a == 0:                      #UP\n",
    "        s_next = [s[0]-1, s[1]]\n",
    "        if s_next[0] < 0:\n",
    "            s_next[0] = 0;\n",
    "            \n",
    "    elif a == 1:                    #LEFT\n",
    "        s_next = [s[0], s[1]-1]\n",
    "        if s_next[1] < 0:\n",
    "            s_next[1] = 0;\n",
    "            \n",
    "    elif a == 2:                    #DOWN\n",
    "        s_next = [s[0]+1, s[1]]\n",
    "        if s_next[0] > 3:\n",
    "            s_next[0] = 3;        \n",
    "    else:                           #RIGHT\n",
    "        s_next = [s[0], s[1] + 1]\n",
    "        if s_next[1] > 3:\n",
    "            s_next[1] = 3;\n",
    "            \n",
    "    return s_next    "
   ]
  },
  {
   "cell_type": "code",
   "execution_count": 44,
   "metadata": {},
   "outputs": [],
   "source": [
    "def getReward(s):\n",
    "    if s == 0:\n",
    "        r = 0;\n",
    "    elif s == 15:\n",
    "        r = 0\n",
    "    else:\n",
    "        r = -1;\n",
    "        \n",
    "    return r;    "
   ]
  },
  {
   "cell_type": "code",
   "execution_count": 172,
   "metadata": {},
   "outputs": [],
   "source": [
    "def policy_eval(V, gamma, noa, th, p):\n",
    "    V_tmp = copy.deepcopy(V)\n",
    "    flag = 0;\n",
    "    steps = 0;\n",
    "    while flag == 0:\n",
    "        delta = 0;\n",
    "        for i in range(1,15):\n",
    "            v = V_tmp[i]\n",
    "            p_cur = p[i]\n",
    "            tmp = 0;\n",
    "            #iterate over actions\n",
    "            for a in range(4):\n",
    "                s = [i/4, i%4]\n",
    "                s_next = getNewState_A(a,s)\n",
    "                #change s_next into one integer\n",
    "                s_next = 4*s_next[0] + s_next[1]\n",
    "                #using old V here while updating in a new V\n",
    "                tmp += (getReward(s) + gamma*V[s_next])\n",
    "            tmp = tmp/4.0\n",
    "\n",
    "            V_tmp[i] = tmp;\n",
    "        \n",
    "\n",
    "        if max(delta, abs(v - V[i])) < th:\n",
    "            flag = 1;\n",
    "        \n",
    "        steps += 1;\n",
    "\n",
    "    return V_tmp    "
   ]
  },
  {
   "cell_type": "code",
   "execution_count": 186,
   "metadata": {},
   "outputs": [],
   "source": [
    "#Initialization\n",
    "V = np.zeros(4*4)\n",
    "\n",
    "p = [[0,1,2,3] for i in range(4*4)]\n",
    "#first and last states are terminal and hence no actions performed\n",
    "p[0] = []; p[15] = []\n",
    "\n",
    "gamma = 0.9\n",
    "noa = 4;\n",
    "th = 0.001\n",
    "#policy_stable = False\n",
    "policy_flag = 0;"
   ]
  },
  {
   "cell_type": "code",
   "execution_count": 187,
   "metadata": {
    "scrolled": false
   },
   "outputs": [
    {
     "name": "stdout",
     "output_type": "stream",
     "text": [
      "('STEP: ', 0)\n",
      "V \n",
      "[[0. 0. 0. 0.]\n",
      " [0. 0. 0. 0.]\n",
      " [0. 0. 0. 0.]\n",
      " [0. 0. 0. 0.]]\n",
      "\n",
      "Policy:\n",
      "[[], [0, 1, 2, 3], [0, 1, 2, 3], [0, 1, 2, 3], [0, 1, 2, 3], [0, 1, 2, 3], [0, 1, 2, 3], [0, 1, 2, 3], [0, 1, 2, 3], [0, 1, 2, 3], [0, 1, 2, 3], [0, 1, 2, 3], [0, 1, 2, 3], [0, 1, 2, 3], [0, 1, 2, 3], []]\n",
      "\n",
      "('STEP: ', 1)\n",
      "V \n",
      "[[ 0. -1. -1. -1.]\n",
      " [-1. -1. -1. -1.]\n",
      " [-1. -1. -1. -1.]\n",
      " [-1. -1. -1.  0.]]\n",
      "\n",
      "Policy:\n",
      "[[], [1], [0, 1, 2, 3], [0, 1, 2, 3], [0], [0, 1, 2, 3], [0, 1, 2, 3], [0, 1, 2, 3], [0, 1, 2, 3], [0, 1, 2, 3], [0, 1, 2, 3], [2], [0, 1, 2, 3], [0, 1, 2, 3], [3], []]\n",
      "\n",
      "('STEP: ', 2)\n",
      "V \n",
      "[[ 0.    -1.675 -1.9   -1.9  ]\n",
      " [-1.675 -1.9   -1.9   -1.9  ]\n",
      " [-1.9   -1.9   -1.9   -1.675]\n",
      " [-1.9   -1.9   -1.675  0.   ]]\n",
      "\n",
      "Policy:\n",
      "[[], [1], [1], [0, 1, 2, 3], [0], [0, 1], [0, 1, 2, 3], [2], [0], [0, 1, 2, 3], [2, 3], [2], [0, 1, 2, 3], [3], [3], []]\n",
      "\n",
      "('STEP: ', 3)\n",
      "V \n",
      "[[ 0.       -2.231875 -2.659375 -2.71    ]\n",
      " [-2.231875 -2.60875  -2.71     -2.659375]\n",
      " [-2.659375 -2.71     -2.60875  -2.231875]\n",
      " [-2.71     -2.659375 -2.231875  0.      ]]\n",
      "\n",
      "Policy:\n",
      "[[], [1], [1], [1, 2], [0], [0, 1], [1], [2], [0], [0], [2, 3], [2], [0, 3], [3], [3], []]\n",
      "\n",
      "('STEP: ', 4)\n",
      "V \n",
      "[[ 0.         -2.6875     -3.32003125 -3.41621875]\n",
      " [-2.6875     -3.22384375 -3.37065625 -3.32003125]\n",
      " [-3.32003125 -3.37065625 -3.22384375 -2.6875    ]\n",
      " [-3.41621875 -3.32003125 -2.6875      0.        ]]\n",
      "\n",
      "Policy:\n",
      "[[], [1], [1], [1], [0], [0, 1], [1], [2], [0], [0], [2, 3], [2], [0], [3], [3], []]\n",
      "\n",
      "('STEP: ', 5)\n",
      "V \n",
      "[[ 0.         -3.07705938 -3.87874141 -4.0313125 ]\n",
      " [-3.07705938 -3.72617031 -3.94474375 -3.87874141]\n",
      " [-3.87874141 -3.94474375 -3.72617031 -3.07705938]\n",
      " [-4.0313125  -3.87874141 -3.07705938  0.        ]]\n",
      "\n",
      "Policy:\n",
      "[[], [1], [1], [2], [0], [0, 1], [2], [2], [0], [3], [2, 3], [2], [0, 3], [3], [3], []]\n",
      "\n",
      "FINAL Value function\n",
      "[[ 0.         -3.4034435  -4.35966783 -4.55952426]\n",
      " [-3.4034435  -4.15981141 -4.42221027 -4.35966783]\n",
      " [-4.35966783 -4.42221027 -4.15981141 -3.4034435 ]\n",
      " [-4.55952426 -4.35966783 -3.4034435   0.        ]]\n",
      "Policy\n",
      "[[], [1], [1], [1, 2], [0], [0, 1], [1, 2], [2], [0], [0, 3], [2, 3], [2], [0, 3], [3], [3], []]\n",
      "STOPP DONE\n"
     ]
    }
   ],
   "source": [
    "step = 0;\n",
    "while policy_flag == 0:\n",
    "    #Policy Evaluation\n",
    "    print(\"STEP: \" , step)\n",
    "    print(\"V \" )\n",
    "    print(V.reshape([4,4]))\n",
    "    print(\"\")\n",
    "    print(\"Policy:\")\n",
    "    print(p)\n",
    "    print(\"\")\n",
    "    V = policy_eval(V, gamma, noa, th, p)\n",
    "    policy_stable = True\n",
    "    \n",
    "#     print(\"V\")\n",
    "#     print(V)\n",
    "    #Policy Updation\n",
    "    p_tmp = [[] for i in range(4*4)]\n",
    "    #print(\"policy is\")\n",
    "    #print(p)\n",
    "    for i in range(1,15):\n",
    "        a_old = p[i] #entire list\n",
    "        r = []\n",
    "        #print(i , \" a_old: \" , a_old)\n",
    "        for a in range(noa):\n",
    "            s = [i/4, i%4];\n",
    "            s_next = getNewState_A(a,s)\n",
    "            s_next = 4*s_next[0] + s_next[1]\n",
    "            r.append(getReward(s) + gamma*V[s_next])\n",
    "            #q[i][a] = getReward(s_next) + gamma*np.average(q[s_next])\n",
    "        #p[i] =  np.argmax(r)\n",
    "        #print(\"r:\" , r)\n",
    "        max_val = np.max(r)\n",
    "        ind = np.where(r == max_val)[0]\n",
    "        for j in range(np.size(ind)):\n",
    "            #if ind[j] not in p[i]:\n",
    "            p_tmp[i].append(ind[j])\n",
    "        #we need to check for all the actions which give max returns\n",
    "        if np.size(np.setdiff1d(np.array(a_old), np.array(p_tmp[i]))) != 0:\n",
    "            policy_stable = False\n",
    "            #print(\"policy needs change\")\n",
    "                \n",
    "        #if a_old != p[i]: #np.where(r == max_val)[0]: \n",
    "            #policy_stable = False;\n",
    "            #break; #works without this too\n",
    "            #print(\"policy needs change\")\n",
    "\n",
    "    #Policy updation!!\n",
    "    p = p_tmp\n",
    "    #print(\"updated policy\")\n",
    "    #print(p_tmp)\n",
    "    if policy_stable:\n",
    "        policy_flag = 1;\n",
    "        print(\"FINAL Value function\")\n",
    "        print(V.reshape([4,4]))\n",
    "        print(\"Policy\")\n",
    "        print(p)\n",
    "        print(\"STOPP DONE\")\n",
    "      \n",
    "        \n",
    "    step += 1;    \n",
    "        #print(q)\n",
    "#     else:\n",
    "#         V = policy_eval(V, gamma, noa, th)\n",
    "\n",
    "        "
   ]
  },
  {
   "cell_type": "code",
   "execution_count": 183,
   "metadata": {},
   "outputs": [
    {
     "name": "stdout",
     "output_type": "stream",
     "text": [
      "[[ 0.         -3.4034435  -4.35966783 -4.55952426]\n",
      " [-3.4034435  -4.15981141 -4.42221027 -4.35966783]\n",
      " [-4.35966783 -4.42221027 -4.15981141 -3.4034435 ]\n",
      " [-4.55952426 -4.35966783 -3.4034435   0.        ]]\n"
     ]
    }
   ],
   "source": [
    "\n",
    "print(V.reshape([4,4]))"
   ]
  },
  {
   "cell_type": "code",
   "execution_count": 15,
   "metadata": {},
   "outputs": [],
   "source": [
    "# s = [0,1]; #starting with this state\n",
    "# v = np.zeros([5,5])\n",
    "# steps = 0;\n",
    "# flag = 0;\n",
    "# th = 0.0001; #theshold for converging \n",
    "# while flag == 0:    \n",
    "#     print(\"steps: \" , steps)\n",
    "#     tmp = 0;\n",
    "#     #if in cell A with reward 10\n",
    "#     if s[0] == rA and s[1] == cA: \n",
    "        \n",
    "#         tmp = gamma*v[s_next[0]][s_next[1]];\n",
    "#     #if in cell B with reward 5    \n",
    "#     elif s[0] == rB and s[1] == cB: \n",
    "        \n",
    "#         tmp = gamma*v[s_next[0]][s_next[1]]; \n",
    "#     #any other cell    \n",
    "#     else:\n",
    "#         for a in range(noa):    \n",
    "#             tmp += (getReward(a,s) + gamma*getV(v,s,a))*(1.0/noa)\n",
    "            \n",
    "#     #chekcing for convergence        \n",
    "#     if abs(tmp - v[s[0]][s[1]]) < th:\n",
    "#         #STOP\n",
    "#         print(\"DONE\")\n",
    "#         flag = 1;\n",
    "#         break;\n",
    "#     #update v if no convergence\n",
    "#     else:\n",
    "#         v[s[0]][s[1]] = tmp;\n",
    "        \n",
    "#     #iterating over all the states    \n",
    "#     if s[0] == 4:\n",
    "#         s[0] = 0;\n",
    "#         if s[1] == 4:\n",
    "#             s[1] = 0;\n",
    "#         else:\n",
    "#             s[1] += 1;        \n",
    "#     else:\n",
    "#         s[0] += 1;\n",
    "    \n",
    "#     print(v)\n",
    "#     print(\"\")\n",
    "        \n",
    "#     steps += 1;    "
   ]
  },
  {
   "cell_type": "code",
   "execution_count": 96,
   "metadata": {},
   "outputs": [
    {
     "name": "stdout",
     "output_type": "stream",
     "text": [
      "[ 0.         -4.74926759 -6.80408007 -7.38383137 -4.74926759 -6.2250096\n",
      " -6.86309035 -6.80525474 -6.80408007 -6.86309035 -6.22594933 -4.75080025\n",
      " -7.38383137 -6.80525474 -4.75080025  0.        ]\n"
     ]
    }
   ],
   "source": [
    "print(V)"
   ]
  },
  {
   "cell_type": "code",
   "execution_count": null,
   "metadata": {},
   "outputs": [],
   "source": []
  },
  {
   "cell_type": "code",
   "execution_count": null,
   "metadata": {},
   "outputs": [],
   "source": []
  }
 ],
 "metadata": {
  "kernelspec": {
   "display_name": "RL2019",
   "language": "python",
   "name": "rl2019"
  },
  "language_info": {
   "codemirror_mode": {
    "name": "ipython",
    "version": 2
   },
   "file_extension": ".py",
   "mimetype": "text/x-python",
   "name": "python",
   "nbconvert_exporter": "python",
   "pygments_lexer": "ipython2",
   "version": "2.7.12"
  }
 },
 "nbformat": 4,
 "nbformat_minor": 2
}
